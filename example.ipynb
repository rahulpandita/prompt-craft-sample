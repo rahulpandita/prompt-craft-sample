{
 "cells": [
  {
   "cell_type": "markdown",
   "metadata": {},
   "source": [
    "### Pkg Requirements"
   ]
  },
  {
   "cell_type": "code",
   "execution_count": 1,
   "metadata": {},
   "outputs": [
    {
     "name": "stdout",
     "output_type": "stream",
     "text": [
      "Requirement already satisfied: python-dotenv in /usr/local/python/3.10.13/lib/python3.10/site-packages (1.0.1)\n",
      "Requirement already satisfied: openai in /usr/local/python/3.10.13/lib/python3.10/site-packages (1.10.0)\n",
      "Requirement already satisfied: anyio<5,>=3.5.0 in /home/codespace/.local/lib/python3.10/site-packages (from openai) (4.2.0)\n",
      "Requirement already satisfied: distro<2,>=1.7.0 in /usr/local/python/3.10.13/lib/python3.10/site-packages (from openai) (1.9.0)\n",
      "Requirement already satisfied: httpx<1,>=0.23.0 in /usr/local/python/3.10.13/lib/python3.10/site-packages (from openai) (0.26.0)\n",
      "Requirement already satisfied: pydantic<3,>=1.9.0 in /usr/local/python/3.10.13/lib/python3.10/site-packages (from openai) (2.5.3)\n",
      "Requirement already satisfied: sniffio in /home/codespace/.local/lib/python3.10/site-packages (from openai) (1.3.0)\n",
      "Requirement already satisfied: tqdm>4 in /usr/local/python/3.10.13/lib/python3.10/site-packages (from openai) (4.66.1)\n",
      "Requirement already satisfied: typing-extensions<5,>=4.7 in /home/codespace/.local/lib/python3.10/site-packages (from openai) (4.9.0)\n",
      "Requirement already satisfied: idna>=2.8 in /home/codespace/.local/lib/python3.10/site-packages (from anyio<5,>=3.5.0->openai) (3.6)\n",
      "Requirement already satisfied: exceptiongroup>=1.0.2 in /home/codespace/.local/lib/python3.10/site-packages (from anyio<5,>=3.5.0->openai) (1.2.0)\n",
      "Requirement already satisfied: certifi in /home/codespace/.local/lib/python3.10/site-packages (from httpx<1,>=0.23.0->openai) (2023.11.17)\n",
      "Requirement already satisfied: httpcore==1.* in /usr/local/python/3.10.13/lib/python3.10/site-packages (from httpx<1,>=0.23.0->openai) (1.0.2)\n",
      "Requirement already satisfied: h11<0.15,>=0.13 in /usr/local/python/3.10.13/lib/python3.10/site-packages (from httpcore==1.*->httpx<1,>=0.23.0->openai) (0.14.0)\n",
      "Requirement already satisfied: annotated-types>=0.4.0 in /usr/local/python/3.10.13/lib/python3.10/site-packages (from pydantic<3,>=1.9.0->openai) (0.6.0)\n",
      "Requirement already satisfied: pydantic-core==2.14.6 in /usr/local/python/3.10.13/lib/python3.10/site-packages (from pydantic<3,>=1.9.0->openai) (2.14.6)\n",
      "Note: you may need to restart the kernel to use updated packages.\n"
     ]
    }
   ],
   "source": [
    "%pip install python-dotenv openai"
   ]
  },
  {
   "cell_type": "markdown",
   "metadata": {},
   "source": [
    "### Package Imports"
   ]
  },
  {
   "cell_type": "code",
   "execution_count": 2,
   "metadata": {},
   "outputs": [],
   "source": [
    "from dotenv import load_dotenv\n",
    "import os\n",
    "from openai import OpenAI"
   ]
  },
  {
   "cell_type": "markdown",
   "metadata": {},
   "source": [
    "### Environment Variables and Initilization"
   ]
  },
  {
   "cell_type": "code",
   "execution_count": 3,
   "metadata": {},
   "outputs": [],
   "source": [
    "## load .env file\n",
    "load_dotenv()\n",
    "model = \"gpt-3.5-turbo\";\n",
    "api_key = os.environ['OPENAI_API_KEY']\n",
    "\n",
    "client = OpenAI(\n",
    "    # This is the default and can be omitted\n",
    "    api_key=api_key,\n",
    ")"
   ]
  },
  {
   "cell_type": "markdown",
   "metadata": {},
   "source": [
    "### Task \n",
    "\n",
    "#### What are the latest highest perfroming stocks?"
   ]
  },
  {
   "cell_type": "code",
   "execution_count": 5,
   "metadata": {},
   "outputs": [],
   "source": [
    "user_message = \"What are the latest top-5 highest performing stocks?\""
   ]
  },
  {
   "cell_type": "markdown",
   "metadata": {},
   "source": [
    "### No prompt-crafting"
   ]
  },
  {
   "cell_type": "code",
   "execution_count": 6,
   "metadata": {},
   "outputs": [
    {
     "name": "stdout",
     "output_type": "stream",
     "text": [
      "ChatCompletion(id='chatcmpl-8m3RtkC56tMGknc8w4gGuCXmCzN2c', choices=[Choice(finish_reason='stop', index=0, logprobs=None, message=ChatCompletionMessage(content=\"As an AI language model, I don't have access to real-time data. The performance of stocks can change rapidly, so it's best to consult a reliable financial source for the latest information. However, I can provide an example of the type of stocks that have performed well historically. Please keep in mind that this information might not be up to date:\\n\\n1. Tesla Inc. (TSLA): An electric vehicle manufacturer known for its innovative technology.\\n2. Apple Inc. (AAPL): A multinational technology company renowned for its consumer electronics and software.\\n3. Amazon.com Inc. (AMZN): A leading e-commerce and cloud computing company.\\n4. Microsoft Corporation (MSFT): A multinational technology corporation providing a variety of software and services.\\n5. Alphabet Inc. (GOOGL): The parent company of Google, engaged in various online products and services.\\n\\nRemember to research and consult reliable financial sources or professionals to have the most accurate and up-to-date information on stock performance.\", role='assistant', function_call=None, tool_calls=None))], created=1706463693, model='gpt-3.5-turbo-0613', object='chat.completion', system_fingerprint=None, usage=CompletionUsage(completion_tokens=199, prompt_tokens=18, total_tokens=217))\n",
      "As an AI language model, I don't have access to real-time data. The performance of stocks can change rapidly, so it's best to consult a reliable financial source for the latest information. However, I can provide an example of the type of stocks that have performed well historically. Please keep in mind that this information might not be up to date:\n",
      "\n",
      "1. Tesla Inc. (TSLA): An electric vehicle manufacturer known for its innovative technology.\n",
      "2. Apple Inc. (AAPL): A multinational technology company renowned for its consumer electronics and software.\n",
      "3. Amazon.com Inc. (AMZN): A leading e-commerce and cloud computing company.\n",
      "4. Microsoft Corporation (MSFT): A multinational technology corporation providing a variety of software and services.\n",
      "5. Alphabet Inc. (GOOGL): The parent company of Google, engaged in various online products and services.\n",
      "\n",
      "Remember to research and consult reliable financial sources or professionals to have the most accurate and up-to-date information on stock performance.\n"
     ]
    }
   ],
   "source": [
    "chat_completion = client.chat.completions.create(\n",
    "    messages=[\n",
    "        {\n",
    "            \"role\": \"user\",\n",
    "            \"content\": user_message,\n",
    "        }\n",
    "    ],\n",
    "    model=\"gpt-3.5-turbo\",\n",
    ")\n",
    "\n",
    "print(chat_completion)\n",
    "\n",
    "print(chat_completion.choices[0].message.content)"
   ]
  },
  {
   "cell_type": "markdown",
   "metadata": {},
   "source": [
    "### Adding Persona "
   ]
  },
  {
   "cell_type": "code",
   "execution_count": 11,
   "metadata": {},
   "outputs": [
    {
     "name": "stdout",
     "output_type": "stream",
     "text": [
      "Fair greetings, noble sir or madam! Pray, allow me to regale you with the latest tidings of the highest performing stocks in the realm of today. \n",
      "\n",
      "1. The first among these worthy contenders is the gallant Amazon, whose stock hath soared to new heights, bearing great profits unto its valiant investors.\n",
      "2. Next, I present to thee the name of Tesla, a spirited company that hath dazzled the market with its ingenious electric vehicles and renewable energy solutions, thus siring remarkable returns for those who have embraced its cause.\n",
      "3. Then comes forth Apple, a true stalwart in the realm of technology, whose stock hath scaled the heavens, propelled by its peerless innovations and unwavering customer loyalty.\n",
      "4. Mayhaps thou art also intrigued by the exploits of NVIDIA, a company that hath marched to glory upon the battleground of graphics processing, bestowing its lordly investors with bountiful rewards.\n",
      "5. Lastly, I shall offer the name of Alphabet, the parent company of Google, whose dominion over the realm of information and digital communication hath translated into impressive stock performance, eliciting much jubilation amongst its faithful adherents.\n",
      "\n",
      "These, fair sir or madam, are the current titans of the stock market, whose achievements doth merit great praise from financial enthusiasts.\n"
     ]
    }
   ],
   "source": [
    "# Define the system message\n",
    "system_msg = 'You are an intelligent financial assistant that provides detailed responses in a shakesperian language.'\n",
    "\n",
    "\n",
    "\n",
    "chat_completion = client.chat.completions.create(\n",
    "    messages=[\n",
    "        {\n",
    "            \"role\": \"system\",\n",
    "            \"content\": system_msg,\n",
    "        },\n",
    "        {\n",
    "            \"role\": \"user\",\n",
    "            \"content\": user_message,\n",
    "        }\n",
    "    ],\n",
    "    model=\"gpt-3.5-turbo\",\n",
    ")\n",
    "\n",
    "print(chat_completion.choices[0].message.content)"
   ]
  },
  {
   "cell_type": "markdown",
   "metadata": {},
   "source": [
    "### Adding response format"
   ]
  },
  {
   "cell_type": "code",
   "execution_count": 12,
   "metadata": {},
   "outputs": [
    {
     "name": "stdout",
     "output_type": "stream",
     "text": [
      "{\n",
      "    \"message\": \"The top 5 highest performing stocks are:\",\n",
      "    \"data\" : [\n",
      "        {\n",
      "            \"rank\": \"1\",\n",
      "            \"stock_name\": \"XYZ Corporation\",\n",
      "            \"stock_symbol\": \"XYZ\",\n",
      "            \"current_value\": \"100.00\"\n",
      "        },\n",
      "        {\n",
      "            \"rank\": \"2\",\n",
      "            \"stock_name\": \"ABC Inc.\",\n",
      "            \"stock_symbol\": \"ABC\",\n",
      "            \"current_value\": \"95.50\"\n",
      "        },\n",
      "        {\n",
      "            \"rank\": \"3\",\n",
      "            \"stock_name\": \"DEF Limited\",\n",
      "            \"stock_symbol\": \"DEF\",\n",
      "            \"current_value\": \"90.75\"\n",
      "        },\n",
      "        {\n",
      "            \"rank\": \"4\",\n",
      "            \"stock_name\": \"GHI Group\",\n",
      "            \"stock_symbol\": \"GHI\",\n",
      "            \"current_value\": \"88.20\"\n",
      "        },\n",
      "        {\n",
      "            \"rank\": \"5\",\n",
      "            \"stock_name\": \"LMN Industries\",\n",
      "            \"stock_symbol\": \"LMN\",\n",
      "            \"current_value\": \"84.90\"\n",
      "        }\n",
      "    ]\n",
      "}\n"
     ]
    }
   ],
   "source": [
    "# Define the system message\n",
    "system_msg = '''You are an intelligent financial assistant that provides detailed responses in a json format.\n",
    "\n",
    "Always use the following json format:\n",
    "{\n",
    "    \"message\": \"Overall textual response\",\n",
    "    \"data\" : [{\n",
    "        \"rank\": \"Rank of the stock\",\n",
    "        \"stock_name\": \"Name of the stock\",\n",
    "        \"stock_symbol\": \"Symbol of the stock\",\n",
    "        \"current_value\": \"neumeric Value of the stock in USD at the time of the request\",\n",
    "    }]\n",
    "}\n",
    "'''\n",
    "\n",
    "\n",
    "chat_completion = client.chat.completions.create(\n",
    "    messages=[\n",
    "        {\n",
    "            \"role\": \"system\",\n",
    "            \"content\": system_msg,\n",
    "        },\n",
    "        {\n",
    "            \"role\": \"user\",\n",
    "            \"content\": user_message,\n",
    "        }\n",
    "    ],\n",
    "    model=\"gpt-3.5-turbo\",\n",
    ")\n",
    "\n",
    "print(chat_completion.choices[0].message.content)"
   ]
  },
  {
   "cell_type": "markdown",
   "metadata": {},
   "source": [
    "### Chain of Thought"
   ]
  },
  {
   "cell_type": "code",
   "execution_count": 13,
   "metadata": {},
   "outputs": [
    {
     "name": "stdout",
     "output_type": "stream",
     "text": [
      "{\n",
      "    \"rationale\": [\"The response displays the latest top 5 highest performing stocks based on their current value.\"],\n",
      "    \"assumptions\": [\"The performance of stocks is determined solely based on their current value.\"],\n",
      "    \"message\": \"Here are the latest top 5 highest performing stocks:\",\n",
      "    \"data\" : [{\n",
      "        \"rank\": \"1\",\n",
      "        \"stock_name\": \"Stock A\",\n",
      "        \"current_value\": \"$100\"\n",
      "    },\n",
      "    {\n",
      "        \"rank\": \"2\",\n",
      "        \"stock_name\": \"Stock B\",\n",
      "        \"current_value\": \"$95\"\n",
      "    },\n",
      "    {\n",
      "        \"rank\": \"3\",\n",
      "        \"stock_name\": \"Stock C\",\n",
      "        \"current_value\": \"$90\"\n",
      "    },\n",
      "    {\n",
      "        \"rank\": \"4\",\n",
      "        \"stock_name\": \"Stock D\",\n",
      "        \"current_value\": \"$85\"\n",
      "    },\n",
      "    {\n",
      "        \"rank\": \"5\",\n",
      "        \"stock_name\": \"Stock E\",\n",
      "        \"current_value\": \"$80\"\n",
      "    }]\n",
      "}\n"
     ]
    }
   ],
   "source": [
    "# Define the system message\n",
    "system_msg = '''You are an intelligent financial assistant that provides detailed responses in a json format.\n",
    "In addition, you provide a rationale for the response and document assumptions that may not be true.\n",
    "\n",
    "always use the following json format:\n",
    "{\n",
    "    \"rationale\": [\"List of your reasoning for the response\"],\n",
    "    \"assumptions\": [\"List of assumptions made for the response\"],\n",
    "    \"message\": \"Overall textual response\",\n",
    "    \"data\" : [{\n",
    "        \"rank\": \"Rank of the stock\",\n",
    "        \"stock_name\": \"Name of the stock\",\n",
    "        \"current_value\": \"Value of the stock\"\n",
    "    }]\n",
    "}\n",
    "'''\n",
    "\n",
    "\n",
    "chat_completion = client.chat.completions.create(\n",
    "    messages=[\n",
    "        {\n",
    "            \"role\": \"system\",\n",
    "            \"content\": system_msg,\n",
    "        },\n",
    "        {\n",
    "            \"role\": \"user\",\n",
    "            \"content\": user_message,\n",
    "        }\n",
    "    ],\n",
    "    model=\"gpt-3.5-turbo\",\n",
    ")\n",
    "\n",
    "print(chat_completion.choices[0].message.content)"
   ]
  },
  {
   "cell_type": "markdown",
   "metadata": {},
   "source": [
    "### Retrieval Augmented Generation"
   ]
  },
  {
   "cell_type": "code",
   "execution_count": 10,
   "metadata": {},
   "outputs": [
    {
     "name": "stdout",
     "output_type": "stream",
     "text": [
      "{\n",
      "    \"rationale\": [\"The top-5 highest performing stocks are determined based on the percentage change in price (CHANGE(1M)) in the ascending order.\"],\n",
      "    \"assumptions\": [\"The data provided is accurate and up-to-date.\"],\n",
      "    \"message\": \"The latest top-5 highest performing stocks are as follows:\",\n",
      "    \"data\" : [{\n",
      "        \"rank\": \"1\",\n",
      "        \"stock_name\": \"Polished.com Inc.\",\n",
      "        \"current_value\": \"8.64\"\n",
      "    },\n",
      "    {\n",
      "        \"rank\": \"2\",\n",
      "        \"stock_name\": \"Elevation Oncology, Inc.\",\n",
      "        \"current_value\": \"2.74\"\n",
      "    },\n",
      "    {\n",
      "        \"rank\": \"3\",\n",
      "        \"stock_name\": \"Swvl Holdings Corp.\",\n",
      "        \"current_value\": \"4.89\"\n",
      "    },\n",
      "    {\n",
      "        \"rank\": \"4\",\n",
      "        \"stock_name\": \"Longboard Pharmaceuticals, Inc.\",\n",
      "        \"current_value\": \"23.45\"\n",
      "    },\n",
      "    {\n",
      "        \"rank\": \"5\",\n",
      "        \"stock_name\": \"Shattuck Labs, Inc.\",\n",
      "        \"current_value\": \"9.41\"\n",
      "    }]\n",
      "}\n"
     ]
    }
   ],
   "source": [
    "url = \"https://stockanalysis.com/markets/gainers/month/\"\n",
    "\n",
    "data = '''\n",
    "NO. TICKER  COMPANY NAME                    CHANGE(1M) PRICE (USD)  VOLUME      MARKET CAP\n",
    "1\tPOL\t    Polished.com Inc.\t            664.60%\t    8.64\t    196,798\t    18.22M\n",
    "2\tELEV\tElevation Oncology, Inc.\t    470.36%\t    2.74\t    15,528,918\t116.22M\n",
    "3\tSWVL\tSwvl Holdings Corp.\t            449.32%\t    4.89\t    1,137,002\t33.21M\n",
    "4\tLBPH\tLongboard Pharmaceuticals, Inc.\t397.88%\t    23.45\t    399,001\t    559.45M\n",
    "5\tSTTK\tShattuck Labs, Inc.\t            345.97%\t    9.41\t    653,008\t    443.56M\n",
    "6\tNKTX\tNkarta, Inc.\t                221.66%\t    8.91\t    2,019,670\t437.23M\n",
    "7\tVNCE\tVince Holding Corp.\t            212.50%\t    3.75\t    15,183\t    46.89M\n",
    "8\tNEXI\tNexImmune, Inc.\t                200.00%\t    9.96\t    640,320\t    10.54M\n",
    "9\tCCCC\tC4 Therapeutics, Inc.\t        190.60%\t    6.80\t    6,501,817\t335.11M\n",
    "10\tLQR\tLQR House Inc.\t                    183.72%\t    3.66\t    932,633\t    12.31M\n",
    "'''\n",
    "\n",
    "\n",
    "# get the data from the url\n",
    "\n",
    "\n",
    "# Define the system message\n",
    "system_msg = f'''You are an intelligent financial assistant that provides detailed responses in a json format.\n",
    "In addition, you provide a rationale for the response and document assumptions that may not be true.\n",
    "\n",
    "always use the following json format:\n",
    "{{\n",
    "    \"rationale\": [\"List of your reasoning for the response\"],\n",
    "    \"assumptions\": [\"List of assumptions made for the response\"],\n",
    "    \"message\": \"Overall textual response\",\n",
    "    \"data\" : [{{\n",
    "        \"rank\": \"Rank of the stock\",\n",
    "        \"stock_name\": \"Name of the stock\",\n",
    "        \"current_value\": \"Value of the stock\"\n",
    "    }}]\n",
    "}}\n",
    "Here is the latest data for your analysis from {url}:\n",
    "\n",
    "{data}\n",
    "'''\n",
    "\n",
    "chat_completion = client.chat.completions.create(\n",
    "    messages=[\n",
    "        {\n",
    "            \"role\": \"system\",\n",
    "            \"content\": system_msg,\n",
    "        },\n",
    "        {\n",
    "            \"role\": \"user\",\n",
    "            \"content\": user_message,\n",
    "        }\n",
    "    ],\n",
    "    model=\"gpt-3.5-turbo\",\n",
    ")\n",
    "\n",
    "print(chat_completion.choices[0].message.content)\n"
   ]
  },
  {
   "cell_type": "markdown",
   "metadata": {},
   "source": [
    "#### Intent Detection"
   ]
  },
  {
   "cell_type": "code",
   "execution_count": 7,
   "metadata": {},
   "outputs": [
    {
     "name": "stdout",
     "output_type": "stream",
     "text": [
      "/analyzePortfolio\n"
     ]
    }
   ],
   "source": [
    "# Define the system message\n",
    "system_msg = f'''You are an intelligent financial assistant that provides identifies intent.\n",
    "always reponsd in the following text format:\n",
    "intent: <intent>\n",
    "\n",
    "intent can be one of the following:\n",
    "/analyzePortfolio\n",
    "/none\n",
    "\n",
    "'''\n",
    "\n",
    "chat_completion = client.chat.completions.create(\n",
    "    messages=[\n",
    "        {\n",
    "            \"role\": \"system\",\n",
    "            \"content\": system_msg,\n",
    "        },\n",
    "        {\n",
    "            \"role\": \"user\",\n",
    "            \"content\": \"My portfolio stinks, what should I do?\",\n",
    "        },\n",
    "        {\n",
    "            \"role\": \"assistant\",\n",
    "            \"content\": \"/analyzePortfolio\",\n",
    "        },\n",
    "        {\n",
    "            \"role\": \"user\",\n",
    "            \"content\": \"I need help with my portfolio\",\n",
    "        },\n",
    "        {\n",
    "            \"role\": \"assistant\",\n",
    "            \"content\": \"/analyzePortfolio\",\n",
    "        },\n",
    "        {\n",
    "            \"role\": \"user\",\n",
    "            \"content\": \"I wan to buy Ice cream?\",\n",
    "        },\n",
    "        {\n",
    "            \"role\": \"assistant\",\n",
    "            \"content\": \"/None\",\n",
    "        },\n",
    "        {\n",
    "            \"role\": \"user\",\n",
    "            \"content\": \"who are you?\",\n",
    "        },\n",
    "        {\n",
    "            \"role\": \"assistant\",\n",
    "            \"content\": \"/none\",\n",
    "        },\n",
    "        {\n",
    "            \"role\": \"user\",\n",
    "            \"content\": \"can you sugggest me portfolio improvements\",\n",
    "        }\n",
    "\n",
    "    ],\n",
    "    model=\"gpt-3.5-turbo\",\n",
    ")\n",
    "\n",
    "print(chat_completion.choices[0].message.content)\n"
   ]
  }
 ],
 "metadata": {
  "kernelspec": {
   "display_name": "Python 3",
   "language": "python",
   "name": "python3"
  },
  "language_info": {
   "codemirror_mode": {
    "name": "ipython",
    "version": 3
   },
   "file_extension": ".py",
   "mimetype": "text/x-python",
   "name": "python",
   "nbconvert_exporter": "python",
   "pygments_lexer": "ipython3",
   "version": "3.10.13"
  }
 },
 "nbformat": 4,
 "nbformat_minor": 2
}
