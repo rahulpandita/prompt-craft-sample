{
 "cells": [
  {
   "cell_type": "markdown",
   "metadata": {},
   "source": [
    "### Pkg Requirements"
   ]
  },
  {
   "cell_type": "code",
   "execution_count": 1,
   "metadata": {},
   "outputs": [
    {
     "name": "stdout",
     "output_type": "stream",
     "text": [
      "Requirement already satisfied: python-dotenv in /usr/local/python/3.10.13/lib/python3.10/site-packages (1.0.0)\n",
      "Requirement already satisfied: openai in /usr/local/python/3.10.13/lib/python3.10/site-packages (1.7.2)\n",
      "Requirement already satisfied: anyio<5,>=3.5.0 in /home/codespace/.local/lib/python3.10/site-packages (from openai) (4.1.0)\n",
      "Requirement already satisfied: distro<2,>=1.7.0 in /usr/local/python/3.10.13/lib/python3.10/site-packages (from openai) (1.9.0)\n",
      "Requirement already satisfied: httpx<1,>=0.23.0 in /usr/local/python/3.10.13/lib/python3.10/site-packages (from openai) (0.26.0)\n",
      "Requirement already satisfied: pydantic<3,>=1.9.0 in /usr/local/python/3.10.13/lib/python3.10/site-packages (from openai) (2.5.3)\n",
      "Requirement already satisfied: sniffio in /home/codespace/.local/lib/python3.10/site-packages (from openai) (1.3.0)\n",
      "Requirement already satisfied: tqdm>4 in /usr/local/python/3.10.13/lib/python3.10/site-packages (from openai) (4.66.1)\n",
      "Requirement already satisfied: typing-extensions<5,>=4.7 in /home/codespace/.local/lib/python3.10/site-packages (from openai) (4.8.0)\n",
      "Requirement already satisfied: idna>=2.8 in /home/codespace/.local/lib/python3.10/site-packages (from anyio<5,>=3.5.0->openai) (3.6)\n",
      "Requirement already satisfied: exceptiongroup>=1.0.2 in /home/codespace/.local/lib/python3.10/site-packages (from anyio<5,>=3.5.0->openai) (1.2.0)\n",
      "Requirement already satisfied: certifi in /home/codespace/.local/lib/python3.10/site-packages (from httpx<1,>=0.23.0->openai) (2023.11.17)\n",
      "Requirement already satisfied: httpcore==1.* in /usr/local/python/3.10.13/lib/python3.10/site-packages (from httpx<1,>=0.23.0->openai) (1.0.2)\n",
      "Requirement already satisfied: h11<0.15,>=0.13 in /usr/local/python/3.10.13/lib/python3.10/site-packages (from httpcore==1.*->httpx<1,>=0.23.0->openai) (0.14.0)\n",
      "Requirement already satisfied: annotated-types>=0.4.0 in /usr/local/python/3.10.13/lib/python3.10/site-packages (from pydantic<3,>=1.9.0->openai) (0.6.0)\n",
      "Requirement already satisfied: pydantic-core==2.14.6 in /usr/local/python/3.10.13/lib/python3.10/site-packages (from pydantic<3,>=1.9.0->openai) (2.14.6)\n",
      "Note: you may need to restart the kernel to use updated packages.\n"
     ]
    }
   ],
   "source": [
    "%pip install python-dotenv openai"
   ]
  },
  {
   "cell_type": "markdown",
   "metadata": {},
   "source": [
    "### Package Imports"
   ]
  },
  {
   "cell_type": "code",
   "execution_count": 2,
   "metadata": {},
   "outputs": [],
   "source": [
    "from dotenv import load_dotenv\n",
    "import os\n",
    "from openai import OpenAI"
   ]
  },
  {
   "cell_type": "markdown",
   "metadata": {},
   "source": [
    "### Environment Variables and Initilization"
   ]
  },
  {
   "cell_type": "code",
   "execution_count": 4,
   "metadata": {},
   "outputs": [],
   "source": [
    "## load .env file\n",
    "load_dotenv()\n",
    "model = \"gpt-3.5-turbo\";\n",
    "api_key = os.environ['OPENAI_API_KEY']\n",
    "\n",
    "client = OpenAI(\n",
    "    # This is the default and can be omitted\n",
    "    api_key=api_key,\n",
    ")"
   ]
  },
  {
   "cell_type": "markdown",
   "metadata": {},
   "source": [
    "### Task \n",
    "\n",
    "#### What are the latest highest perfroming stocks?"
   ]
  },
  {
   "cell_type": "code",
   "execution_count": 5,
   "metadata": {},
   "outputs": [],
   "source": [
    "user_message = \"What are the latest top-5 highest performing stocks?\""
   ]
  },
  {
   "cell_type": "markdown",
   "metadata": {},
   "source": [
    "### No prompt-crafting"
   ]
  },
  {
   "cell_type": "code",
   "execution_count": 6,
   "metadata": {},
   "outputs": [
    {
     "name": "stdout",
     "output_type": "stream",
     "text": [
      "As an AI language model, I don't have real-time data. The performance of stocks can change frequently, so the top-performing stocks will vary over time. However, here are five stocks that had performed well as of October 2021:\n",
      "\n",
      "1. NVIDIA Corporation (NVDA): NVIDIA is a leading technology company focused on graphics processing units (GPUs) and artificial intelligence. Its stock has seen significant growth due to the increasing demand for GPUs in various industries.\n",
      "\n",
      "2. Tesla Inc. (TSLA): Tesla is an electric vehicle manufacturer and clean energy company. It has experienced substantial growth in recent years, driven by its innovative products and expanding global presence.\n",
      "\n",
      "3. Amazon.com Inc. (AMZN): Amazon is one of the largest online retailers and cloud services providers. The company has consistently shown strong performance due to its dominant market position and diverse business segments.\n",
      "\n",
      "4. Microsoft Corporation (MSFT): Microsoft is a technology giant known for its software products and cloud services. Its stock has performed well due to the company's consistent growth and successful transition into the cloud computing space.\n",
      "\n",
      "5. Alphabet Inc. (GOOGL): Alphabet is the parent company of Google, the leading internet search engine. It has maintained strong financial performance, benefitting from its market dominance in online advertising and various other ventures.\n",
      "\n",
      "Please note that these rankings may change, and it is always advisable to conduct updated research or consult a financial advisor for the latest information on stock performances.\n"
     ]
    }
   ],
   "source": [
    "chat_completion = client.chat.completions.create(\n",
    "    messages=[\n",
    "        {\n",
    "            \"role\": \"user\",\n",
    "            \"content\": user_message,\n",
    "        }\n",
    "    ],\n",
    "    model=\"gpt-3.5-turbo\",\n",
    ")\n",
    "\n",
    "print(chat_completion.choices[0].message.content)"
   ]
  },
  {
   "cell_type": "markdown",
   "metadata": {},
   "source": [
    "### Adding Persona "
   ]
  },
  {
   "cell_type": "code",
   "execution_count": 8,
   "metadata": {},
   "outputs": [
    {
     "name": "stdout",
     "output_type": "stream",
     "text": [
      "As an AI language model, I don't have real-time data. However, I can provide you with the general concept on how to find out the latest top-performing stocks. The performance of stocks can vary greatly over short periods of time, so it's best to check a reputable financial news source or use a stock market analysis platform to get the most up-to-date information.\n",
      "\n",
      "To identify the top-performing stocks, you can consider factors such as high returns, positive earnings growth, strong market capitalization, and positive news or developments related to the company. These factors can help identify stocks that are currently performing well.\n",
      "\n",
      "It's important to note that investing in individual stocks carries risks, and it's always recommended to do thorough research or consult with a financial advisor before making any investment decisions.\n"
     ]
    }
   ],
   "source": [
    "# Define the system message\n",
    "system_msg = 'You are an intelligent financial assistant that provides detailed responses in a non-technical language.'\n",
    "\n",
    "\n",
    "\n",
    "chat_completion = client.chat.completions.create(\n",
    "    messages=[\n",
    "        {\n",
    "            \"role\": \"system\",\n",
    "            \"content\": system_msg,\n",
    "        },\n",
    "        {\n",
    "            \"role\": \"user\",\n",
    "            \"content\": user_message,\n",
    "        }\n",
    "    ],\n",
    "    model=\"gpt-3.5-turbo\",\n",
    ")\n",
    "\n",
    "print(chat_completion.choices[0].message.content)"
   ]
  },
  {
   "cell_type": "markdown",
   "metadata": {},
   "source": [
    "### Adding response format"
   ]
  },
  {
   "cell_type": "code",
   "execution_count": 9,
   "metadata": {},
   "outputs": [
    {
     "name": "stdout",
     "output_type": "stream",
     "text": [
      "{\n",
      "    \"message\": \"The top-5 highest performing stocks are:\",\n",
      "    \"data\": [\n",
      "        {\n",
      "            \"rank\": \"1\",\n",
      "            \"stock_name\": \"XYZ Corporation\",\n",
      "            \"current_value\": \"$100\"\n",
      "        },\n",
      "        {\n",
      "            \"rank\": \"2\",\n",
      "            \"stock_name\": \"ABC Inc\",\n",
      "            \"current_value\": \"$98\"\n",
      "        },\n",
      "        {\n",
      "            \"rank\": \"3\",\n",
      "            \"stock_name\": \"123 Company\",\n",
      "            \"current_value\": \"$95\"\n",
      "        },\n",
      "        {\n",
      "            \"rank\": \"4\",\n",
      "            \"stock_name\": \"DEF Ltd\",\n",
      "            \"current_value\": \"$92\"\n",
      "        },\n",
      "        {\n",
      "            \"rank\": \"5\",\n",
      "            \"stock_name\": \"GHI Industries\",\n",
      "            \"current_value\": \"$90\"\n",
      "        }\n",
      "    ]\n",
      "}\n"
     ]
    }
   ],
   "source": [
    "# Define the system message\n",
    "system_msg = '''You are an intelligent financial assistant that provides detailed responses in a json format.\n",
    "\n",
    "Always use the following json format:\n",
    "{\n",
    "    \"message\": \"Overall textual response\",\n",
    "    \"data\" : [{\n",
    "        \"rank\": \"Rank of the stock\",\n",
    "        \"stock_name\": \"Name of the stock\",\n",
    "        \"current_value\": \"Value of the stock\"\n",
    "    }]\n",
    "}\n",
    "'''\n",
    "\n",
    "\n",
    "chat_completion = client.chat.completions.create(\n",
    "    messages=[\n",
    "        {\n",
    "            \"role\": \"system\",\n",
    "            \"content\": system_msg,\n",
    "        },\n",
    "        {\n",
    "            \"role\": \"user\",\n",
    "            \"content\": user_message,\n",
    "        }\n",
    "    ],\n",
    "    model=\"gpt-3.5-turbo\",\n",
    ")\n",
    "\n",
    "print(chat_completion.choices[0].message.content)"
   ]
  },
  {
   "cell_type": "markdown",
   "metadata": {},
   "source": [
    "### Chain of Thought"
   ]
  },
  {
   "cell_type": "code",
   "execution_count": 11,
   "metadata": {},
   "outputs": [
    {
     "name": "stdout",
     "output_type": "stream",
     "text": [
      "{\n",
      "    \"rationalle\": [\"To find the top-5 highest performing stocks, we need to consider the stocks with the highest growth or return. We can base it on the percentage increase in stock value over a specific period, such as the last month or year.\"],\n",
      "    \"assumptions\": [\"We will consider the percentage increase in stock value over the last month as the criteria for the highest performing stocks. This assumes that the stock value has increased significantly over this period.\"],\n",
      "    \"message\": \"The top-5 highest performing stocks based on the percentage increase in stock value over the last month are as follows:\",\n",
      "    \"data\": [{\n",
      "        \"rank\": \"1\",\n",
      "        \"stock_name\": \"Stock A\",\n",
      "        \"current_value\": \"$100\"\n",
      "    }, {\n",
      "        \"rank\": \"2\",\n",
      "        \"stock_name\": \"Stock B\",\n",
      "        \"current_value\": \"$95\"\n",
      "    }, {\n",
      "        \"rank\": \"3\",\n",
      "        \"stock_name\": \"Stock C\",\n",
      "        \"current_value\": \"$90\"\n",
      "    }, {\n",
      "        \"rank\": \"4\",\n",
      "        \"stock_name\": \"Stock D\",\n",
      "        \"current_value\": \"$85\"\n",
      "    }, {\n",
      "        \"rank\": \"5\",\n",
      "        \"stock_name\": \"Stock E\",\n",
      "        \"current_value\": \"$80\"\n",
      "    }]\n",
      "}\n"
     ]
    }
   ],
   "source": [
    "# Define the system message\n",
    "system_msg = '''You are an intelligent financial assistant that provides detailed responses in a json format.\n",
    "In addition, you provide a rationale for the response and document assumptions that may not be true.\n",
    "\n",
    "always use the following json format:\n",
    "{\n",
    "    \"rationale\": [\"List of your reasoning for the response\"],\n",
    "    \"assumptions\": [\"List of assumptions made for the response\"],\n",
    "    \"message\": \"Overall textual response\",\n",
    "    \"data\" : [{\n",
    "        \"rank\": \"Rank of the stock\",\n",
    "        \"stock_name\": \"Name of the stock\",\n",
    "        \"current_value\": \"Value of the stock\"\n",
    "    }]\n",
    "}\n",
    "'''\n",
    "\n",
    "\n",
    "chat_completion = client.chat.completions.create(\n",
    "    messages=[\n",
    "        {\n",
    "            \"role\": \"system\",\n",
    "            \"content\": system_msg,\n",
    "        },\n",
    "        {\n",
    "            \"role\": \"user\",\n",
    "            \"content\": user_message,\n",
    "        }\n",
    "    ],\n",
    "    model=\"gpt-3.5-turbo\",\n",
    ")\n",
    "\n",
    "print(chat_completion.choices[0].message.content)"
   ]
  },
  {
   "cell_type": "markdown",
   "metadata": {},
   "source": [
    "### Retrieval Augmented Generation"
   ]
  },
  {
   "cell_type": "code",
   "execution_count": 12,
   "metadata": {},
   "outputs": [
    {
     "name": "stdout",
     "output_type": "stream",
     "text": [
      "{\n",
      "    \"data\": [\n",
      "        {\n",
      "            \"rank\": \"1\",\n",
      "            \"stock_name\": \"POL\",\n",
      "            \"current_value\": \"8.64\"\n",
      "        },\n",
      "        {\n",
      "            \"rank\": \"2\",\n",
      "            \"stock_name\": \"ELEV\",\n",
      "            \"current_value\": \"2.74\"\n",
      "        },\n",
      "        {\n",
      "            \"rank\": \"3\",\n",
      "            \"stock_name\": \"SWVL\",\n",
      "            \"current_value\": \"4.89\"\n",
      "        },\n",
      "        {\n",
      "            \"rank\": \"4\",\n",
      "            \"stock_name\": \"LBPH\",\n",
      "            \"current_value\": \"23.45\"\n",
      "        },\n",
      "        {\n",
      "            \"rank\": \"5\",\n",
      "            \"stock_name\": \"STTK\",\n",
      "            \"current_value\": \"9.41\"\n",
      "        }\n",
      "    ],\n",
      "    \"rationale\": [\"The top 5 highest performing stocks are determined by the percentage change in their price over the past month. This list is based on the data provided and ranks the stocks accordingly.\"],\n",
      "    \"assumptions\": [\"The percentage change in price over the past month is the sole criteria for determining the highest performing stocks.\"],\n",
      "    \"message\": \"The top 5 highest performing stocks are POL, ELEV, SWVL, LBPH, and STTK.\"\n",
      "}\n"
     ]
    }
   ],
   "source": [
    "url = \"https://stockanalysis.com/markets/gainers/month/\"\n",
    "\n",
    "data = '''\n",
    "NO. TICKER  COMPANY NAME                    CHANGE(1M) PRICE (USD)  VOLUME      MARKET CAP\n",
    "1\tPOL\t    Polished.com Inc.\t            664.60%\t    8.64\t    196,798\t    18.22M\n",
    "2\tELEV\tElevation Oncology, Inc.\t    470.36%\t    2.74\t    15,528,918\t116.22M\n",
    "3\tSWVL\tSwvl Holdings Corp.\t            449.32%\t    4.89\t    1,137,002\t33.21M\n",
    "4\tLBPH\tLongboard Pharmaceuticals, Inc.\t397.88%\t    23.45\t    399,001\t    559.45M\n",
    "5\tSTTK\tShattuck Labs, Inc.\t            345.97%\t    9.41\t    653,008\t    443.56M\n",
    "6\tNKTX\tNkarta, Inc.\t                221.66%\t    8.91\t    2,019,670\t437.23M\n",
    "7\tVNCE\tVince Holding Corp.\t            212.50%\t    3.75\t    15,183\t    46.89M\n",
    "8\tNEXI\tNexImmune, Inc.\t                200.00%\t    9.96\t    640,320\t    10.54M\n",
    "9\tCCCC\tC4 Therapeutics, Inc.\t        190.60%\t    6.80\t    6,501,817\t335.11M\n",
    "10\tLQR\tLQR House Inc.\t                    183.72%\t    3.66\t    932,633\t    12.31M\n",
    "'''\n",
    "\n",
    "\n",
    "# get the data from the url\n",
    "\n",
    "\n",
    "# Define the system message\n",
    "system_msg = f'''You are an intelligent financial assistant that provides detailed responses in a json format.\n",
    "In addition, you provide a rationale for the response and document assumptions that may not be true.\n",
    "\n",
    "always use the following json format:\n",
    "{{\n",
    "    \"rationale\": [\"List of your reasoning for the response\"],\n",
    "    \"assumptions\": [\"List of assumptions made for the response\"],\n",
    "    \"message\": \"Overall textual response\",\n",
    "    \"data\" : [{{\n",
    "        \"rank\": \"Rank of the stock\",\n",
    "        \"stock_name\": \"Name of the stock\",\n",
    "        \"current_value\": \"Value of the stock\"\n",
    "    }}]\n",
    "}}\n",
    "Here is the latest data for your analysis from {url}:\n",
    "\n",
    "{data}\n",
    "'''\n",
    "\n",
    "chat_completion = client.chat.completions.create(\n",
    "    messages=[\n",
    "        {\n",
    "            \"role\": \"system\",\n",
    "            \"content\": system_msg,\n",
    "        },\n",
    "        {\n",
    "            \"role\": \"user\",\n",
    "            \"content\": user_message,\n",
    "        }\n",
    "    ],\n",
    "    model=\"gpt-3.5-turbo\",\n",
    ")\n",
    "\n",
    "print(chat_completion.choices[0].message.content)\n"
   ]
  }
 ],
 "metadata": {
  "kernelspec": {
   "display_name": "Python 3",
   "language": "python",
   "name": "python3"
  },
  "language_info": {
   "codemirror_mode": {
    "name": "ipython",
    "version": 3
   },
   "file_extension": ".py",
   "mimetype": "text/x-python",
   "name": "python",
   "nbconvert_exporter": "python",
   "pygments_lexer": "ipython3",
   "version": "3.10.13"
  }
 },
 "nbformat": 4,
 "nbformat_minor": 2
}
