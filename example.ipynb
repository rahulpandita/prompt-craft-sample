{
 "cells": [
  {
   "cell_type": "markdown",
   "metadata": {},
   "source": [
    "### Pkg Requirements"
   ]
  },
  {
   "cell_type": "code",
   "execution_count": 1,
   "metadata": {},
   "outputs": [
    {
     "name": "stdout",
     "output_type": "stream",
     "text": [
      "Requirement already satisfied: python-dotenv in /usr/local/python/3.10.13/lib/python3.10/site-packages (1.0.0)\n",
      "Requirement already satisfied: openai in /usr/local/python/3.10.13/lib/python3.10/site-packages (1.7.2)\n",
      "Requirement already satisfied: anyio<5,>=3.5.0 in /home/codespace/.local/lib/python3.10/site-packages (from openai) (4.1.0)\n",
      "Requirement already satisfied: distro<2,>=1.7.0 in /usr/local/python/3.10.13/lib/python3.10/site-packages (from openai) (1.9.0)\n",
      "Requirement already satisfied: httpx<1,>=0.23.0 in /usr/local/python/3.10.13/lib/python3.10/site-packages (from openai) (0.26.0)\n",
      "Requirement already satisfied: pydantic<3,>=1.9.0 in /usr/local/python/3.10.13/lib/python3.10/site-packages (from openai) (2.5.3)\n",
      "Requirement already satisfied: sniffio in /home/codespace/.local/lib/python3.10/site-packages (from openai) (1.3.0)\n",
      "Requirement already satisfied: tqdm>4 in /usr/local/python/3.10.13/lib/python3.10/site-packages (from openai) (4.66.1)\n",
      "Requirement already satisfied: typing-extensions<5,>=4.7 in /home/codespace/.local/lib/python3.10/site-packages (from openai) (4.8.0)\n",
      "Requirement already satisfied: idna>=2.8 in /home/codespace/.local/lib/python3.10/site-packages (from anyio<5,>=3.5.0->openai) (3.6)\n",
      "Requirement already satisfied: exceptiongroup>=1.0.2 in /home/codespace/.local/lib/python3.10/site-packages (from anyio<5,>=3.5.0->openai) (1.2.0)\n",
      "Requirement already satisfied: certifi in /home/codespace/.local/lib/python3.10/site-packages (from httpx<1,>=0.23.0->openai) (2023.11.17)\n",
      "Requirement already satisfied: httpcore==1.* in /usr/local/python/3.10.13/lib/python3.10/site-packages (from httpx<1,>=0.23.0->openai) (1.0.2)\n",
      "Requirement already satisfied: h11<0.15,>=0.13 in /usr/local/python/3.10.13/lib/python3.10/site-packages (from httpcore==1.*->httpx<1,>=0.23.0->openai) (0.14.0)\n",
      "Requirement already satisfied: annotated-types>=0.4.0 in /usr/local/python/3.10.13/lib/python3.10/site-packages (from pydantic<3,>=1.9.0->openai) (0.6.0)\n",
      "Requirement already satisfied: pydantic-core==2.14.6 in /usr/local/python/3.10.13/lib/python3.10/site-packages (from pydantic<3,>=1.9.0->openai) (2.14.6)\n",
      "Note: you may need to restart the kernel to use updated packages.\n"
     ]
    }
   ],
   "source": [
    "%pip install python-dotenv openai"
   ]
  },
  {
   "cell_type": "markdown",
   "metadata": {},
   "source": [
    "### Package Imports"
   ]
  },
  {
   "cell_type": "code",
   "execution_count": 2,
   "metadata": {},
   "outputs": [],
   "source": [
    "from dotenv import load_dotenv\n",
    "import os\n",
    "from openai import OpenAI"
   ]
  },
  {
   "cell_type": "markdown",
   "metadata": {},
   "source": [
    "### Environment Variables and Initilization"
   ]
  },
  {
   "cell_type": "code",
   "execution_count": 3,
   "metadata": {},
   "outputs": [],
   "source": [
    "## load .env file\n",
    "load_dotenv()\n",
    "model = \"gpt-3.5-turbo\";\n",
    "api_key = os.environ['OPENAI_API_KEY']\n",
    "\n",
    "client = OpenAI(\n",
    "    # This is the default and can be omitted\n",
    "    api_key=api_key,\n",
    ")"
   ]
  },
  {
   "cell_type": "markdown",
   "metadata": {},
   "source": [
    "### Task \n",
    "\n",
    "#### What are the latest highest perfroming stocks?"
   ]
  },
  {
   "cell_type": "code",
   "execution_count": 4,
   "metadata": {},
   "outputs": [],
   "source": [
    "user_message = \"What are the latest highest perfroming stocks?\""
   ]
  },
  {
   "cell_type": "markdown",
   "metadata": {},
   "source": [
    "### No prompt-crafting"
   ]
  },
  {
   "cell_type": "code",
   "execution_count": 5,
   "metadata": {},
   "outputs": [
    {
     "name": "stdout",
     "output_type": "stream",
     "text": [
      "As an AI language model, I don't have real-time data. However, I can mention some of the highest-performing stocks as of the last available information (April 2021). It's important to note that stock performance can change rapidly, and it's always advisable to conduct thorough research or consult with a financial advisor for the latest information. Some high-performing stocks from recent times included:\n",
      "\n",
      "1. Tesla Inc. (TSLA): An electric vehicle manufacturer known for its innovative technology.\n",
      "2. Apple Inc. (AAPL): A technology giant, known for its iPhones, Macs, and other consumer electronics.\n",
      "3. Amazon.com Inc. (AMZN): A multinational technology company primarily focused on e-commerce, cloud computing, and streaming services.\n",
      "4. Alphabet Inc. (GOOGL, GOOG): The parent company of Google and its various subsidiaries.\n",
      "5. NVIDIA Corporation (NVDA): A technology company known for designing graphics processing units (GPUs) and artificial intelligence (AI) technology.\n",
      "\n",
      "It's important to consider that stock performance can fluctuate, and past performance does not guarantee future results. It's always recommended to research and analyze stocks before making any investment decisions.\n"
     ]
    }
   ],
   "source": [
    "chat_completion = client.chat.completions.create(\n",
    "    messages=[\n",
    "        {\n",
    "            \"role\": \"user\",\n",
    "            \"content\": user_message,\n",
    "        }\n",
    "    ],\n",
    "    model=\"gpt-3.5-turbo\",\n",
    ")\n",
    "\n",
    "print(chat_completion.choices[0].message.content)"
   ]
  },
  {
   "cell_type": "markdown",
   "metadata": {},
   "source": [
    "### Adding Persona "
   ]
  },
  {
   "cell_type": "code",
   "execution_count": 6,
   "metadata": {},
   "outputs": [
    {
     "name": "stdout",
     "output_type": "stream",
     "text": [
      "As an AI language model, I cannot provide real-time information or specific stock recommendations as the stock market can be volatile and subject to constant change. However, I can guide you on general strategies for finding high-performing stocks. \n",
      "\n",
      "To identify potentially high-performing stocks, you can consider the following:\n",
      "\n",
      "1. Research and analysis: Look for companies with strong fundamentals, including positive revenue growth, increasing earnings, and a competitive advantage in their industry. Analyze financial statements, news articles, and industry trends.\n",
      "\n",
      "2. Diversification: Build a diversified portfolio by investing in stocks from different sectors and geographical regions. This can help mitigate risk and capture potential gains in different markets.\n",
      "\n",
      "3. Consider professional advice: Consulting with a financial advisor or broker can provide you with personalized advice and recommendations based on your risk tolerance, investment goals, and time horizon.\n",
      "\n",
      "4. Market research tools: Utilize various financial websites, tools, and resources that provide stock screeners, historical data, and research reports to identify potential growth stocks.\n",
      "\n",
      "Remember, investing in the stock market involves risk. It's important to conduct thorough research and consider your own financial situation before making investment decisions.\n"
     ]
    }
   ],
   "source": [
    "# Define the system message\n",
    "system_msg = 'You are a helpful finnacial assistant that provides detailed responds in a non-technical language.'\n",
    "\n",
    "\n",
    "\n",
    "chat_completion = client.chat.completions.create(\n",
    "    messages=[\n",
    "        {\n",
    "            \"role\": \"system\",\n",
    "            \"content\": system_msg,\n",
    "        },\n",
    "        {\n",
    "            \"role\": \"user\",\n",
    "            \"content\": user_message,\n",
    "        }\n",
    "    ],\n",
    "    model=\"gpt-3.5-turbo\",\n",
    ")\n",
    "\n",
    "print(chat_completion.choices[0].message.content)"
   ]
  },
  {
   "cell_type": "markdown",
   "metadata": {},
   "source": [
    "### Adding response format"
   ]
  },
  {
   "cell_type": "code",
   "execution_count": 7,
   "metadata": {},
   "outputs": [
    {
     "name": "stdout",
     "output_type": "stream",
     "text": [
      "{\n",
      "    \"message\": \"Here are the latest highest performing stocks:\",\n",
      "    \"data\": [\n",
      "        {\n",
      "            \"rank\": \"1\",\n",
      "            \"stock_name\": \"Amazon\",\n",
      "            \"current_value\": \"$3,203.08\"\n",
      "        },\n",
      "        {\n",
      "            \"rank\": \"2\",\n",
      "            \"stock_name\": \"Apple\",\n",
      "            \"current_value\": \"$471.63\"\n",
      "        },\n",
      "        {\n",
      "            \"rank\": \"3\",\n",
      "            \"stock_name\": \"Microsoft\",\n",
      "            \"current_value\": \"$213.03\"\n",
      "        }\n",
      "    ]\n",
      "}\n"
     ]
    }
   ],
   "source": [
    "# Define the system message\n",
    "system_msg = '''You are a helpful finnacial assistant that provides detailed responds in a json format.\n",
    "\n",
    "always use the following json format:\n",
    "{\n",
    "    \"message\": \"Over all textual response\",\n",
    "    \"data\" : [{\n",
    "        \"rank\": \"Rank of the stock\",\n",
    "        \"stock_name\": \"Name of the stock\",\n",
    "        \"current_value\": \"Value of the stock\"\n",
    "    }]\n",
    "}\n",
    "'''\n",
    "\n",
    "\n",
    "chat_completion = client.chat.completions.create(\n",
    "    messages=[\n",
    "        {\n",
    "            \"role\": \"system\",\n",
    "            \"content\": system_msg,\n",
    "        },\n",
    "        {\n",
    "            \"role\": \"user\",\n",
    "            \"content\": user_message,\n",
    "        }\n",
    "    ],\n",
    "    model=\"gpt-3.5-turbo\",\n",
    ")\n",
    "\n",
    "print(chat_completion.choices[0].message.content)"
   ]
  },
  {
   "cell_type": "markdown",
   "metadata": {},
   "source": [
    "### Chain of Thought"
   ]
  },
  {
   "cell_type": "code",
   "execution_count": 8,
   "metadata": {},
   "outputs": [
    {
     "name": "stdout",
     "output_type": "stream",
     "text": [
      "{\n",
      "    \"message\": \"The latest highest performing stocks are:\",\n",
      "    \"data\": [\n",
      "        {\n",
      "            \"rank\": \"1\",\n",
      "            \"stock_name\": \"ABC Corporation\",\n",
      "            \"current_value\": \"$100\"\n",
      "        },\n",
      "        {\n",
      "            \"rank\": \"2\",\n",
      "            \"stock_name\": \"XYZ Inc.\",\n",
      "            \"current_value\": \"$90\"\n",
      "        },\n",
      "        {\n",
      "            \"rank\": \"3\",\n",
      "            \"stock_name\": \"DEF Limited\",\n",
      "            \"current_value\": \"$80\"\n",
      "        }\n",
      "    ],\n",
      "    \"rationalle\": \"The stocks with the highest performance are determined based on their current value. The stocks listed have the highest current values.\",\n",
      "    \"assumptions\": \"The response is based on available data and may vary depending on the market conditions and time of the request.\"\n",
      "}\n"
     ]
    }
   ],
   "source": [
    "# Define the system message\n",
    "system_msg = '''You are a helpful finnacial assistant that provides detailed responds in a json format.\n",
    "In addtion, you provide a rationalle for the response and document assumptions that may not be true.\n",
    "\n",
    "always use the following json format:\n",
    "{\n",
    "    \"message\": \"Over all textual response\",\n",
    "    \"data\" : [{\n",
    "        \"rank\": \"Rank of the stock\",\n",
    "        \"stock_name\": \"Name of the stock\",\n",
    "        \"current_value\": \"Value of the stock\"\n",
    "    }]\n",
    "    \"rationalle\": \"Rationalle for the response\"m\n",
    "    \"assumptions\": \"Assumptions made for the response\"\n",
    "}\n",
    "'''\n",
    "\n",
    "\n",
    "chat_completion = client.chat.completions.create(\n",
    "    messages=[\n",
    "        {\n",
    "            \"role\": \"system\",\n",
    "            \"content\": system_msg,\n",
    "        },\n",
    "        {\n",
    "            \"role\": \"user\",\n",
    "            \"content\": user_message,\n",
    "        }\n",
    "    ],\n",
    "    model=\"gpt-3.5-turbo\",\n",
    ")\n",
    "\n",
    "print(chat_completion.choices[0].message.content)"
   ]
  },
  {
   "cell_type": "markdown",
   "metadata": {},
   "source": [
    "### Retrieval Augmented Generation"
   ]
  },
  {
   "cell_type": "code",
   "execution_count": 9,
   "metadata": {},
   "outputs": [
    {
     "name": "stdout",
     "output_type": "stream",
     "text": [
      "{\n",
      "    \"message\": \"The latest highest performing stocks are as follows:\",\n",
      "    \"data\": [\n",
      "        {\n",
      "            \"rank\": \"1\",\n",
      "            \"stock_name\": \"Polished.com Inc.\",\n",
      "            \"current_value\": \"8.64\"\n",
      "        },\n",
      "        {\n",
      "            \"rank\": \"2\",\n",
      "            \"stock_name\": \"Elevation Oncology, Inc.\",\n",
      "            \"current_value\": \"2.74\"\n",
      "        },\n",
      "        {\n",
      "            \"rank\": \"3\",\n",
      "            \"stock_name\": \"Swvl Holdings Corp.\",\n",
      "            \"current_value\": \"4.89\"\n",
      "        },\n",
      "        {\n",
      "            \"rank\": \"4\",\n",
      "            \"stock_name\": \"Longboard Pharmaceuticals, Inc.\",\n",
      "            \"current_value\": \"23.45\"\n",
      "        },\n",
      "        {\n",
      "            \"rank\": \"5\",\n",
      "            \"stock_name\": \"Shattuck Labs, Inc.\",\n",
      "            \"current_value\": \"9.41\"\n",
      "        }\n",
      "    ],\n",
      "    \"rationalle\": \"These stocks have shown the highest percentage change in price over the last month, indicating strong performance.\",\n",
      "    \"assumptions\": \"The data provided is based on the latest available information and may change over time.\"\n",
      "}\n"
     ]
    }
   ],
   "source": [
    "url = \"https://stockanalysis.com/markets/gainers/month/\"\n",
    "\n",
    "data = '''\n",
    "NO. TICKER  COMPANY NAME                    CHANGE(1M) PRICE (USD)  VOLUME      MARKET CAP\n",
    "1\tPOL\t    Polished.com Inc.\t            664.60%\t    8.64\t    196,798\t    18.22M\n",
    "2\tELEV\tElevation Oncology, Inc.\t    470.36%\t    2.74\t    15,528,918\t116.22M\n",
    "3\tSWVL\tSwvl Holdings Corp.\t            449.32%\t    4.89\t    1,137,002\t33.21M\n",
    "4\tLBPH\tLongboard Pharmaceuticals, Inc.\t397.88%\t    23.45\t    399,001\t    559.45M\n",
    "5\tSTTK\tShattuck Labs, Inc.\t            345.97%\t    9.41\t    653,008\t    443.56M\n",
    "6\tNKTX\tNkarta, Inc.\t                221.66%\t    8.91\t    2,019,670\t437.23M\n",
    "7\tVNCE\tVince Holding Corp.\t            212.50%\t    3.75\t    15,183\t    46.89M\n",
    "8\tNEXI\tNexImmune, Inc.\t                200.00%\t    9.96\t    640,320\t    10.54M\n",
    "9\tCCCC\tC4 Therapeutics, Inc.\t        190.60%\t    6.80\t    6,501,817\t335.11M\n",
    "10\tLQR\tLQR House Inc.\t                    183.72%\t    3.66\t    932,633\t    12.31M\n",
    "'''\n",
    "\n",
    "\n",
    "# get the data from the url\n",
    "\n",
    "\n",
    "# Define the system message\n",
    "system_msg = f'''You are a helpful finnacial assistant that provides detailed responds in a json format.\n",
    "In addtion, you provide a rationalle for the response and document assumptions that may not be true.\n",
    "\n",
    "always use the following json format:\n",
    "{{\n",
    "    \"message\": \"Over all textual response\",\n",
    "    \"data\" : [{{\n",
    "        \"rank\": \"Rank of the stock\",\n",
    "        \"stock_name\": \"Name of the stock\",\n",
    "        \"current_value\": \"Value of the stock\"\n",
    "    }}]\n",
    "    \"rationalle\": \"Rationalle for the response\"m\n",
    "    \"assumptions\": \"Assumptions made for the response\"\n",
    "}}\n",
    "Here is the latest data for your analysis from {url}:\n",
    "\n",
    "{data}\n",
    "'''\n",
    "\n",
    "chat_completion = client.chat.completions.create(\n",
    "    messages=[\n",
    "        {\n",
    "            \"role\": \"system\",\n",
    "            \"content\": system_msg,\n",
    "        },\n",
    "        {\n",
    "            \"role\": \"user\",\n",
    "            \"content\": user_message,\n",
    "        }\n",
    "    ],\n",
    "    model=\"gpt-3.5-turbo\",\n",
    ")\n",
    "\n",
    "print(chat_completion.choices[0].message.content)\n"
   ]
  }
 ],
 "metadata": {
  "kernelspec": {
   "display_name": "Python 3",
   "language": "python",
   "name": "python3"
  },
  "language_info": {
   "codemirror_mode": {
    "name": "ipython",
    "version": 3
   },
   "file_extension": ".py",
   "mimetype": "text/x-python",
   "name": "python",
   "nbconvert_exporter": "python",
   "pygments_lexer": "ipython3",
   "version": "3.10.13"
  }
 },
 "nbformat": 4,
 "nbformat_minor": 2
}
